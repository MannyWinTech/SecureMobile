{
  "nbformat": 4,
  "nbformat_minor": 0,
  "metadata": {
    "colab": {
      "provenance": [],
      "authorship_tag": "ABX9TyNOY2QOhRxXL8brPpterYzV",
      "include_colab_link": true
    },
    "kernelspec": {
      "name": "python3",
      "display_name": "Python 3"
    },
    "language_info": {
      "name": "python"
    }
  },
  "cells": [
    {
      "cell_type": "markdown",
      "metadata": {
        "id": "view-in-github",
        "colab_type": "text"
      },
      "source": [
        "<a href=\"https://colab.research.google.com/github/macdomilk/SecureMobile/blob/main/Untitled0.ipynb\" target=\"_parent\"><img src=\"https://colab.research.google.com/assets/colab-badge.svg\" alt=\"Open In Colab\"/></a>"
      ]
    },
    {
      "cell_type": "code",
      "execution_count": 4,
      "metadata": {
        "colab": {
          "base_uri": "https://localhost:8080/"
        },
        "id": "pUiLl3LEyo0-",
        "outputId": "5a69aabf-44ef-4b97-8cec-88b25973b69c"
      },
      "outputs": [
        {
          "output_type": "stream",
          "name": "stdout",
          "text": [
            "Payroll for the company:\n",
            "========================\n",
            "John Doe (Employee ID: 1)\n",
            "Gross Salary: $4000.00\n",
            "State Tax: $240.00\n",
            "City Tax (Los Angeles): $10.00\n",
            "Net Salary: $3750.00\n",
            "\n",
            "Jane Smith (Employee ID: 2)\n",
            "Gross Salary: $4200.00\n",
            "State Tax: $252.00\n",
            "City Tax (Los Angeles): $10.50\n",
            "Net Salary: $3937.50\n",
            "\n"
          ]
        }
      ],
      "source": [
        "class Employee:\n",
        "    def __init__(self, emp_id, name, hours_worked, hourly_rate):\n",
        "        self.emp_id = emp_id\n",
        "        self.name = name\n",
        "        self.hours_worked = hours_worked\n",
        "        self.hourly_rate = hourly_rate\n",
        "\n",
        "    def calculate_gross_salary(self):\n",
        "        return self.hours_worked * self.hourly_rate\n",
        "\n",
        "    def calculate_state_tax(self):\n",
        "        return 0.06 * self.calculate_gross_salary()\n",
        "\n",
        "    def calculate_city_tax(self):\n",
        "        return 0.0025 * self.calculate_gross_salary()\n",
        "\n",
        "    def calculate_net_salary(self):\n",
        "        gross_salary = self.calculate_gross_salary()\n",
        "        state_tax = self.calculate_state_tax()\n",
        "        city_tax = self.calculate_city_tax()\n",
        "        net_salary = gross_salary - state_tax - city_tax\n",
        "        return net_salary\n",
        "\n",
        "\n",
        "class PayrollSystem:\n",
        "    def __init__(self):\n",
        "        self.employees = []\n",
        "\n",
        "    def add_employee(self, employee):\n",
        "        self.employees.append(employee)\n",
        "\n",
        "    def calculate_payroll(self):\n",
        "        print(\"Payroll for the company:\")\n",
        "        print(\"========================\")\n",
        "        for employee in self.employees:\n",
        "            gross_salary = employee.calculate_gross_salary()\n",
        "            state_tax = employee.calculate_state_tax()\n",
        "            city_tax = employee.calculate_city_tax()\n",
        "            net_salary = employee.calculate_net_salary()\n",
        "\n",
        "            print(f\"{employee.name} (Employee ID: {employee.emp_id})\")\n",
        "            print(f\"Gross Salary: ${gross_salary:.2f}\")\n",
        "            print(f\"State Tax: ${state_tax:.2f}\")\n",
        "            print(f\"City Tax (Los Angeles): ${city_tax:.2f}\")\n",
        "            print(f\"Net Salary: ${net_salary:.2f}\")\n",
        "            print()\n",
        "\n",
        "\n",
        "if __name__ == \"__main__\":\n",
        "    # Example employee data\n",
        "    employee1 = Employee(1, \"John Doe\", 160, 25.00)\n",
        "    employee2 = Employee(2, \"Jane Smith\", 140, 30.00)\n",
        "\n",
        "    # Create a payroll system and add employees\n",
        "    payroll_system = PayrollSystem()\n",
        "    payroll_system.add_employee(employee1)\n",
        "    payroll_system.add_employee(employee2)\n",
        "\n",
        "    # Calculate and display the payroll\n",
        "    payroll_system.calculate_payroll()\n"
      ]
    }
  ]
}